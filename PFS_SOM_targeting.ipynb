{
  "nbformat": 4,
  "nbformat_minor": 0,
  "metadata": {
    "colab": {
      "provenance": [],
      "include_colab_link": true
    },
    "kernelspec": {
      "name": "python3",
      "display_name": "Python 3"
    },
    "language_info": {
      "name": "python"
    }
  },
  "cells": [
    {
      "cell_type": "markdown",
      "metadata": {
        "id": "view-in-github",
        "colab_type": "text"
      },
      "source": [
        "<a href=\"https://colab.research.google.com/github/valentinalatorre/CAMELS-tests/blob/main/PFS_SOM_targeting.ipynb\" target=\"_parent\"><img src=\"https://colab.research.google.com/assets/colab-badge.svg\" alt=\"Open In Colab\"/></a>"
      ]
    },
    {
      "cell_type": "markdown",
      "source": [
        "# Notebook for PFS targeting analysis using Self-Organizing Maps\n",
        "\n",
        "#### This notebook should read in pre-computed SOMs initially (later training here synchronously) and construct a dictionary which contains information required for S2025B targeting for PFS GE low-z science commisioning."
      ],
      "metadata": {
        "id": "osgvWHFCzJDT"
      }
    },
    {
      "cell_type": "markdown",
      "source": [
        "# What should this notebook do specifically:\n",
        "\n",
        "0a. **BS:** share the COSMOS2020 catalog\n",
        "0b. **VLT** perform the cross-match between catalogs (we need to think about how to define the catalogs to cross-match)\n",
        "\n",
        "--> What is the final u2irac catalog (check w/ Danilo and Andy, send an email cc'ing both, bryan, and jenny + rachel)\n",
        "\n",
        "1. Function to read in pickled SOM - this returns codebook (colors for each SOM cell) and bmus (x, y on the lattice for each galaxy) **VLT**\n",
        "--> output the shape of the codebook + bmus, and make sure to document what these each are.\n",
        "\n",
        "2. Read in the catalogs and cross-matched catalog (so we have both accessible in this notebook) - this should be 3 catalogs, u2irac, COSMOS2020 and cross-matched **VLT**\n",
        "2. Things we want to compute for each SOM cell/region of color-space:\n",
        "*  function to compute Percentiles of the redshift distributions - EAZYpy photo-z, COSMOS2020 photo-z (from your cross-match - which is a separate task), spec-zs when available (dispersion in the SOM cells, which is a measure of the redshift distribution that the SOM estimates within each cell) **VLT**\n",
        "*  photo-z posteriors (median of sigmas?) **BS**\n",
        "\n",
        "3. Then we want metrics to decide color-space targeting:\n",
        "* function the compute the coverage fraction (which is the ratio of PFS selected targets given some fiducial cuts to the 'ground truth' in a given catalog. This function should accept as argument an arbitrary catalog and an arbitrary set of cuts, SOM coordinates, this should be insensitive to whether we consider a catalog to be ground truth) **both VLT and BS**\n",
        "\n",
        "* function to compute multi-modality measure (see notes on ideas on the board photo) **BS**\n",
        "* function to compute N_spec to reconstruct a SOM histogram **VLT**\n",
        "\n",
        "4. Add in SOM visualization stuff (both), cross-occupation-statistics, **both BS, VLT** for doing consistency checks\n",
        "\n",
        "\n",
        "\n"
      ],
      "metadata": {
        "id": "FRafoSOqzlrA"
      }
    },
    {
      "cell_type": "code",
      "source": [
        "import pickle\n",
        "\n",
        "# Read saved SOM\n",
        "def read_som(file_path):\n",
        "  \"\"\"\n",
        "  Reads a SOM file from the specified file path.\n",
        "  file_path (str): The path to the SOM file.\n",
        "  Notes:\n",
        "    VLT trained SOM on u2IRAC COSMOS field (VIR only): 'SOM_Jcut_cosmos.pickle'\n",
        "\n",
        "  \"\"\"\n",
        "  try:\n",
        "    with open(file_path, 'rb') as file:\n",
        "      som = pickle.load(file)\n",
        "    return som\n",
        "  except Exception as e:\n",
        "    print(f\"Error reading SOM file: {e}\")\n",
        "    return None\n"
      ],
      "metadata": {
        "id": "El3S7XWazfxa"
      },
      "execution_count": null,
      "outputs": []
    },
    {
      "cell_type": "code",
      "source": [],
      "metadata": {
        "id": "7qYsAPKkoR_u"
      },
      "execution_count": null,
      "outputs": []
    }
  ]
}